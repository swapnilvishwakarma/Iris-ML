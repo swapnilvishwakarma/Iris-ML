{
 "metadata": {
  "language_info": {
   "codemirror_mode": {
    "name": "ipython",
    "version": 3
   },
   "file_extension": ".py",
   "mimetype": "text/x-python",
   "name": "python",
   "nbconvert_exporter": "python",
   "pygments_lexer": "ipython3",
   "version": "3.9.1-final"
  },
  "orig_nbformat": 2,
  "kernelspec": {
   "name": "python3",
   "display_name": "Python 3.9.1 64-bit",
   "metadata": {
    "interpreter": {
     "hash": "63fd5069d213b44bf678585dea6b12cceca9941eaf7f819626cde1f2670de90d"
    }
   }
  }
 },
 "nbformat": 4,
 "nbformat_minor": 2,
 "cells": [
  {
   "cell_type": "code",
   "execution_count": 20,
   "metadata": {},
   "outputs": [],
   "source": [
    "import requests\n",
    "from bs4 import BeautifulSoup"
   ]
  },
  {
   "cell_type": "code",
   "execution_count": 21,
   "metadata": {},
   "outputs": [],
   "source": [
    "# url = 'http://127.0.0.1:5000/predict'\n",
    "# test = {\n",
    "#     'a': (None, '5.2'),\n",
    "#     'b': (None, '4'),\n",
    "#     'c': (None, '7'),\n",
    "#     'd': (None, '0.2')\n",
    "# }\n",
    "\n",
    "# r = requests.post(url, data=test)\n",
    "# print(r)"
   ]
  },
  {
   "cell_type": "code",
   "execution_count": 22,
   "metadata": {},
   "outputs": [],
   "source": [
    "# url = 'https://iris-webapp-ml.herokuapp.com/predict'\n",
    "# test = {\n",
    "#     'a': (None, '5.2'),\n",
    "#     'b': (None, '4'),\n",
    "#     'c': (None, '7'),\n",
    "#     'd': (None, '0.2')\n",
    "# }\n",
    "\n",
    "# r = requests.post(url, data=test)\n",
    "# htmlText = r.text\n",
    "# soup = BeautifulSoup(htmlText, 'html.parser')\n",
    "# print(soup.find('h2').text)\n",
    "# print(soup.find_all('h1')[-1].text)"
   ]
  },
  {
   "cell_type": "code",
   "execution_count": 23,
   "metadata": {},
   "outputs": [
    {
     "output_type": "stream",
     "name": "stdout",
     "text": [
      "Your Predicted Flower Class is:\nIris-verginica\n"
     ]
    }
   ],
   "source": [
    "# Testing api\n",
    "\n",
    "test = {\n",
    "    'a': (None, '5.2'),\n",
    "    'b': (None, '4'),\n",
    "    'c': (None, '7'),\n",
    "    'd': (None, '0.2')\n",
    "}\n",
    "\n",
    "api_prediction('https://iris-webapp-ml.herokuapp.com/predict', test)"
   ]
  },
  {
   "cell_type": "code",
   "execution_count": null,
   "metadata": {},
   "outputs": [],
   "source": []
  }
 ]
}